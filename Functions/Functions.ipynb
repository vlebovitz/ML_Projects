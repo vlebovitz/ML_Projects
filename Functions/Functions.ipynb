{
 "cells": [
  {
   "cell_type": "markdown",
   "metadata": {},
   "source": [
    "## Introduction To Functions"
   ]
  },
  {
   "cell_type": "code",
   "execution_count": 3,
   "metadata": {},
   "outputs": [
    {
     "name": "stdout",
     "output_type": "stream",
     "text": [
      "1 2 3 4 5 6 Vince "
     ]
    }
   ],
   "source": [
    "## Variable Length Arguments\n",
    "## Positional And Keyword Arguments\n",
    "def print_numbers(*args):\n",
    "  for number in args:\n",
    "    print(number,end=\" \")\n",
    "print_numbers(1,2,3,4,5,6,\"Vince\")\n"
   ]
  },
  {
   "cell_type": "code",
   "execution_count": 9,
   "metadata": {},
   "outputs": [
    {
     "name": "stdout",
     "output_type": "stream",
     "text": [
      " name : Vince\n",
      " age : 32\n",
      " country : United States\n"
     ]
    }
   ],
   "source": [
    "## Keywords Argument\n",
    "## In the Form of Key : Value pairs\n",
    "def print_details(**kwargs):\n",
    "  for key,value in kwargs.items():\n",
    "    print(f\" {key} : {value}\")\n",
    "\n",
    "print_details(name=\"Vince\",age=32,country=\"United States\")"
   ]
  },
  {
   "cell_type": "code",
   "execution_count": 12,
   "metadata": {},
   "outputs": [
    {
     "name": "stdout",
     "output_type": "stream",
     "text": [
      "Postional Argument | 1\n",
      "Postional Argument | 2\n",
      "Postional Argument | 3\n",
      "Postional Argument | 4\n",
      "Postional Argument | 5\n",
      "Postional Argument | Krish\n",
      "Keyword Argument | name : Vincent\n",
      "Keyword Argument | age : 32\n"
     ]
    }
   ],
   "source": [
    "def print_details(*args,**kwargs):\n",
    "  for val in args:\n",
    "    print(f\"Postional Argument | {val}\")\n",
    "\n",
    "  for key,value in kwargs.items():\n",
    "    print(f\"Keyword Argument | {key} : {value}\")\n",
    "\n",
    "print_details(1,2,3,4,5,\"Krish\",name=\"Vincent\",age=32)"
   ]
  },
  {
   "cell_type": "code",
   "execution_count": 13,
   "metadata": {},
   "outputs": [
    {
     "name": "stdout",
     "output_type": "stream",
     "text": [
      "89.6\n"
     ]
    }
   ],
   "source": [
    "## Temperature Conversion\n",
    "def temp_convert(temp,unit):\n",
    "  \"\"\" Function Converts Between Celcius and Fahrenheit \"\"\"\n",
    "  if unit == 'C':\n",
    "    return temp*(9/5)+32\n",
    "  elif unit == 'F':\n",
    "    return (temp-32)*(5/9)\n",
    "  else:\n",
    "    print(\"Enter a Correct Unit!\")\n",
    "    return\n",
    "print(temp_convert(32,'C'))"
   ]
  },
  {
   "cell_type": "code",
   "execution_count": 14,
   "metadata": {},
   "outputs": [],
   "source": [
    "## Create a Strong Password\n",
    "def is_strong_password(password):\n",
    "  if len(password) < 8:\n",
    "    return False\n",
    "  if not any(char.isdigit() for char in password):\n",
    "    return False\n",
    "  if not any(char.islower() for char in password):\n",
    "    return False\n",
    "  if not any(char.isupper() for char in password):\n",
    "    return False\n",
    "  if not any(char in '!@#' for char in password):\n",
    "    return False\n",
    "  return True"
   ]
  },
  {
   "cell_type": "code",
   "execution_count": 29,
   "metadata": {},
   "outputs": [
    {
     "name": "stdout",
     "output_type": "stream",
     "text": [
      "200.75\n"
     ]
    }
   ],
   "source": [
    "## Return Total Cost of Items in Shopping Cart\n",
    "def total(cart):\n",
    "  total_sum = 0\n",
    "  for items in cart:\n",
    "    total_sum += items['price']\n",
    "  return total_sum\n",
    "      \n",
    "  \n",
    "cart = [\n",
    "  {'name': 'Apple','price':0.75},\n",
    "  {'name': 'Dog','price':200}\n",
    "]\n",
    "print(total(cart))"
   ]
  },
  {
   "cell_type": "code",
   "execution_count": 20,
   "metadata": {},
   "outputs": [
    {
     "data": {
      "text/plain": [
       "True"
      ]
     },
     "execution_count": 20,
     "metadata": {},
     "output_type": "execute_result"
    }
   ],
   "source": [
    "## Check if String is a Palindrome\n",
    "def is_palindrome(string):\n",
    "  l,r = 0,len(string)-1\n",
    "  while l<r:\n",
    "    if string[l] == string[r]:\n",
    "      l += 1\n",
    "      r -= 1\n",
    "    else:\n",
    "      return False\n",
    "  return True\n",
    "is_palindrome(\"racecar\")"
   ]
  },
  {
   "cell_type": "code",
   "execution_count": null,
   "metadata": {},
   "outputs": [],
   "source": []
  }
 ],
 "metadata": {
  "kernelspec": {
   "display_name": "Python 3",
   "language": "python",
   "name": "python3"
  },
  "language_info": {
   "codemirror_mode": {
    "name": "ipython",
    "version": 3
   },
   "file_extension": ".py",
   "mimetype": "text/x-python",
   "name": "python",
   "nbconvert_exporter": "python",
   "pygments_lexer": "ipython3",
   "version": "3.10.0"
  }
 },
 "nbformat": 4,
 "nbformat_minor": 2
}
