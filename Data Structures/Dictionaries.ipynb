{
 "cells": [
  {
   "cell_type": "markdown",
   "metadata": {},
   "source": [
    "## Dictionary Implementation"
   ]
  },
  {
   "cell_type": "code",
   "execution_count": 4,
   "metadata": {},
   "outputs": [
    {
     "name": "stdout",
     "output_type": "stream",
     "text": [
      "<class 'dict'>\n",
      "{'name': 'Vincent', 'age': 27, 'passion': 'soccer'}\n"
     ]
    }
   ],
   "source": [
    "## Create Dictionaries\n",
    "empty_dict={}\n",
    "print(type(empty_dict))\n",
    "## or\n",
    "empty_dict = dict()\n",
    "\n",
    "students = {\n",
    "  \"name\": \"Vincent\",\n",
    "  \"age\": 27,\n",
    "  \"passion\": 'soccer'\n",
    "}\n",
    "print(students)\n"
   ]
  },
  {
   "cell_type": "code",
   "execution_count": 10,
   "metadata": {},
   "outputs": [
    {
     "name": "stdout",
     "output_type": "stream",
     "text": [
      "{'name': 'Vincent', 'age': 27, 'passion': 'soccer'}\n",
      "soccer\n",
      "None\n"
     ]
    }
   ],
   "source": [
    "## Accessing Dictionary Elements\n",
    "students = {\n",
    "  \"name\": \"Vincent\",\n",
    "  \"age\": 27,\n",
    "  \"passion\": 'soccer'\n",
    "}\n",
    "print(students)\n",
    "\n",
    "students['passion']\n",
    "\n",
    "## Accessing using get() method\n",
    "print(students.get('passion'))\n",
    "print(students.get('last_name'))"
   ]
  },
  {
   "cell_type": "code",
   "execution_count": null,
   "metadata": {},
   "outputs": [],
   "source": []
  }
 ],
 "metadata": {
  "kernelspec": {
   "display_name": "Python 3",
   "language": "python",
   "name": "python3"
  },
  "language_info": {
   "codemirror_mode": {
    "name": "ipython",
    "version": 3
   },
   "file_extension": ".py",
   "mimetype": "text/x-python",
   "name": "python",
   "nbconvert_exporter": "python",
   "pygments_lexer": "ipython3",
   "version": "3.10.0"
  }
 },
 "nbformat": 4,
 "nbformat_minor": 2
}
