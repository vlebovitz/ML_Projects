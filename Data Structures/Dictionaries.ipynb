{
 "cells": [
  {
   "cell_type": "markdown",
   "metadata": {},
   "source": [
    "## Dictionary Implementation"
   ]
  },
  {
   "cell_type": "code",
   "execution_count": 4,
   "metadata": {},
   "outputs": [
    {
     "name": "stdout",
     "output_type": "stream",
     "text": [
      "<class 'dict'>\n",
      "{'name': 'Vincent', 'age': 27, 'passion': 'soccer'}\n"
     ]
    }
   ],
   "source": [
    "## Create Dictionaries\n",
    "empty_dict={}\n",
    "print(type(empty_dict))\n",
    "## or\n",
    "empty_dict = dict()\n",
    "\n",
    "students = {\n",
    "  \"name\": \"Vincent\",\n",
    "  \"age\": 27,\n",
    "  \"passion\": 'soccer'\n",
    "}\n",
    "print(students)\n"
   ]
  },
  {
   "cell_type": "code",
   "execution_count": 2,
   "metadata": {},
   "outputs": [
    {
     "name": "stdout",
     "output_type": "stream",
     "text": [
      "{'name': 'Vincent', 'age': 27, 'passion': 'soccer'}\n",
      "soccer\n",
      "Not Available\n"
     ]
    }
   ],
   "source": [
    "## Accessing Dictionary Elements\n",
    "students = {\n",
    "  \"name\": \"Vincent\",\n",
    "  \"age\": 27,\n",
    "  \"passion\": 'soccer'\n",
    "}\n",
    "print(students)\n",
    "\n",
    "students['passion']\n",
    "\n",
    "## Accessing using get() method\n",
    "print(students.get('passion'))\n",
    "print(students.get('last_name',\"Not Available\"))"
   ]
  },
  {
   "cell_type": "code",
   "execution_count": 10,
   "metadata": {},
   "outputs": [
    {
     "name": "stdout",
     "output_type": "stream",
     "text": [
      "{'name': 'Vincent', 'age': 33, 'passion': 'soccer', 'grade': 'A'}\n",
      "{'name': 'Vincent', 'age': 33, 'passion': 'soccer'}\n"
     ]
    }
   ],
   "source": [
    "## Modifying Dictionary Elements\n",
    "## Dictionaries are mutable, so you can add, update, and delete elements\n",
    "students['age'] = 33 #update value for key\n",
    "students['grade'] = \"A\"\n",
    "print(students)\n",
    "\n",
    "del students['grade'] # delete the key\n",
    "print(students)"
   ]
  },
  {
   "cell_type": "code",
   "execution_count": 13,
   "metadata": {},
   "outputs": [
    {
     "name": "stdout",
     "output_type": "stream",
     "text": [
      "dict_keys(['name', 'age', 'passion'])\n",
      "dict_values(['Vincent', 33, 'soccer'])\n",
      "dict_items([('name', 'Vincent'), ('age', 33), ('passion', 'soccer')])\n"
     ]
    }
   ],
   "source": [
    "## Methods for Iteration\n",
    "keys = students.keys() # return all keys\n",
    "print(keys)\n",
    "values = students.values() # return all value items\n",
    "print(values)\n",
    "items = students.items() # return all items in dictionary\n",
    "print(items)"
   ]
  },
  {
   "cell_type": "code",
   "execution_count": 16,
   "metadata": {},
   "outputs": [
    {
     "name": "stdout",
     "output_type": "stream",
     "text": [
      "{'name': 'Vincent', 'age': 33, 'passion': 'soccer'}\n",
      "{'name': 'Vincent', 'age': 33, 'passion': 'soccer'}\n"
     ]
    }
   ],
   "source": [
    "## Shallow Copy\n",
    "student_copy=students\n",
    "print(student_copy)\n",
    "student_copy = students.copy()\n",
    "students['age'] = 27\n",
    "print(student_copy)"
   ]
  },
  {
   "cell_type": "code",
   "execution_count": 23,
   "metadata": {},
   "outputs": [
    {
     "name": "stdout",
     "output_type": "stream",
     "text": [
      "name\n",
      "age\n",
      "passion\n",
      "-----------\n",
      "Vincent\n",
      "27\n",
      "soccer\n",
      "-----------\n",
      "name : Vincent\n",
      "age : 27\n",
      "passion : soccer\n"
     ]
    }
   ],
   "source": [
    "## Iterating Over Dictionaries\n",
    "## iterate over dictionaries, keys, values, or items\n",
    "\n",
    "## Keys\n",
    "for keys in students.keys():\n",
    "  print(keys)\n",
    "print(\"-----------\")\n",
    "for values in students.values():\n",
    "  print(values)\n",
    "print(\"-----------\")\n",
    "for key,value in students.items():\n",
    "  print(f\"{key} : {value}\")\n"
   ]
  },
  {
   "cell_type": "code",
   "execution_count": 28,
   "metadata": {},
   "outputs": [
    {
     "name": "stdout",
     "output_type": "stream",
     "text": [
      "Kris\n",
      "Vince\n",
      "Kris\n"
     ]
    }
   ],
   "source": [
    "## Nested Dictionaries\n",
    "students = {\n",
    "  \"student1\": {\"name\":\"Vince\",\"age\":24},\n",
    "  \"student2\": {\"name\":\"Kris\",\"age\":32}\n",
    "}\n",
    "print(students[\"student2\"][\"name\"])\n",
    "\n"
   ]
  },
  {
   "cell_type": "code",
   "execution_count": 31,
   "metadata": {},
   "outputs": [
    {
     "name": "stdout",
     "output_type": "stream",
     "text": [
      "student1 : {'name': 'Vince', 'age': 24}\n",
      "name:Vince\n",
      "age:24\n",
      "student2 : {'name': 'Kris', 'age': 32}\n",
      "name:Kris\n",
      "age:32\n"
     ]
    }
   ],
   "source": [
    "## Iterating over Nested Dictionaries\n",
    "for student,student_info in students.items():\n",
    "  print(f\"{student} : {student_info}\")\n",
    "  for key,value in student_info.items():\n",
    "    print(f\"{key}:{value}\")"
   ]
  },
  {
   "cell_type": "code",
   "execution_count": 33,
   "metadata": {},
   "outputs": [
    {
     "name": "stdout",
     "output_type": "stream",
     "text": [
      "{0: 0, 2: 4, 4: 16, 6: 36, 8: 64}\n"
     ]
    }
   ],
   "source": [
    "## Dictionary Comprehension\n",
    "squares={x:x**2 for x in range(5)}\n",
    "## COnditional Dictionary Comprehension\n",
    "evens={x:x**2 for x in range(10) if x%2==0}\n",
    "print(evens)\n"
   ]
  },
  {
   "cell_type": "code",
   "execution_count": 35,
   "metadata": {},
   "outputs": [
    {
     "name": "stdout",
     "output_type": "stream",
     "text": [
      "{1: 1, 2: 2, 3: 3, 4: 4}\n"
     ]
    }
   ],
   "source": [
    "## Practical Examples for Understanding\n",
    "  ## Count the frequency of elements in a list\n",
    "numbers = [1,2,2,3,3,3,4,4,4,4]\n",
    "hash_map = {}\n",
    "for num in numbers:\n",
    "  if num not in hash_map:\n",
    "    hash_map[num] = 1\n",
    "  else:\n",
    "    hash_map[num] += 1\n",
    "print(hash_map)\n",
    "       \n",
    "      \n"
   ]
  },
  {
   "cell_type": "code",
   "execution_count": 37,
   "metadata": {},
   "outputs": [
    {
     "name": "stdout",
     "output_type": "stream",
     "text": [
      "{'a': 1, 'b': 2, 'c': 3, 'd': 4}\n"
     ]
    }
   ],
   "source": [
    "## Merge 2 Dictionaries into One\n",
    "dict1 = {\n",
    "  \"a\": 1,\n",
    "  \"b\": 2\n",
    "}\n",
    "dict2 = {\n",
    "  \"c\":3,\n",
    "  \"d\":4\n",
    "}\n",
    "## Use the ** to append key,value pairs\n",
    "merged_dict = {**dict1,**dict2}\n",
    "print(merged_dict)"
   ]
  }
 ],
 "metadata": {
  "kernelspec": {
   "display_name": "Python 3",
   "language": "python",
   "name": "python3"
  },
  "language_info": {
   "codemirror_mode": {
    "name": "ipython",
    "version": 3
   },
   "file_extension": ".py",
   "mimetype": "text/x-python",
   "name": "python",
   "nbconvert_exporter": "python",
   "pygments_lexer": "ipython3",
   "version": "3.10.0"
  }
 },
 "nbformat": 4,
 "nbformat_minor": 2
}
