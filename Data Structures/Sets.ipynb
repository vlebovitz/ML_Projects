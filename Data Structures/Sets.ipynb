{
 "cells": [
  {
   "cell_type": "markdown",
   "metadata": {},
   "source": [
    "## Set Implementation"
   ]
  },
  {
   "cell_type": "code",
   "execution_count": 4,
   "metadata": {},
   "outputs": [
    {
     "name": "stdout",
     "output_type": "stream",
     "text": [
      "{1, 2, 3, 4, 5}\n",
      "<class 'set'>\n",
      "{1, 2, 3, 4, 5, 6}\n",
      "<class 'set'>\n"
     ]
    }
   ],
   "source": [
    "## Create a Set\n",
    "my_set={1,2,3,4,5}\n",
    "print(my_set)\n",
    "print(type(my_set))\n",
    "## or\n",
    "my_empty_set = set([1,2,3,4,5,6])\n",
    "print(my_empty_set)\n",
    "print(type(my_empty_set))\n",
    "## Remove duplicates\n",
    "my_set = set([1,2,3,3,5,6,6])\n",
    "print(my_set)"
   ]
  },
  {
   "cell_type": "code",
   "execution_count": 11,
   "metadata": {},
   "outputs": [
    {
     "name": "stdout",
     "output_type": "stream",
     "text": [
      "{2, 5, 6, 7}\n",
      "{2, 5, 6, 7}\n",
      "2\n",
      "True\n"
     ]
    }
   ],
   "source": [
    "## Basci Sets Operation\n",
    "\n",
    "## Adding Elements\n",
    "my_set.add(7)\n",
    "print(my_set)\n",
    "\n",
    "## Removing Elements\n",
    "#my_set.remove(3)\n",
    "#print(my_set)\n",
    "\n",
    "## Discard Method - removes only if the element exists\n",
    "my_set.discard(11)\n",
    "print(my_set)\n",
    "\n",
    "## Pop Method - removes the first elements\n",
    "removed_element = my_set.pop()\n",
    "print(removed_element)\n",
    "\n",
    "## Clear Method - removes all elements\n",
    "# my_set.clear()\n",
    "# print(my_set)\n",
    "\n",
    "## Set Membership Test - use in keyword\n",
    "my_set = {1,2,3,4,5}\n",
    "print(3 in my_set)"
   ]
  },
  {
   "cell_type": "code",
   "execution_count": 15,
   "metadata": {},
   "outputs": [
    {
     "name": "stdout",
     "output_type": "stream",
     "text": [
      "{1, 2, 3, 4, 5, 6, 7, 8}\n",
      "{4, 5, 6}\n",
      "{1, 2, 3}\n"
     ]
    }
   ],
   "source": [
    "## Mathematical Operations\n",
    "set1 = {1,2,3,4,5,6}\n",
    "set2 = {4,5,6,7,7,8}\n",
    "\n",
    "## Union - combines two sets\n",
    "union_set = set1.union(set2)\n",
    "print(union_set)\n",
    "\n",
    "## Intersection - identifies the common numbers within sets\n",
    "intersection_set = set1.intersection(set2)\n",
    "print(intersection_set)\n",
    "\n",
    "## Intersection Update - sets the common values to the set1\n",
    "# set1.intersection_update(set2)\n",
    "# print(set1)\n",
    "\n",
    "## Difference - produces the difference from set1\n",
    "print(set1.difference(set2))\n",
    "\n",
    "## Symmetric Difference - non common elements across sets\n",
    "set1.symmetric_difference(set2)"
   ]
  },
  {
   "cell_type": "code",
   "execution_count": 17,
   "metadata": {},
   "outputs": [
    {
     "name": "stdout",
     "output_type": "stream",
     "text": [
      "False\n",
      "False\n"
     ]
    }
   ],
   "source": [
    "## Addtl Set Methods\n",
    "set1 = {1,2,3}\n",
    "set2 = {3,4,5}\n",
    "\n",
    "## Is Subset -- are all elements also available in the other set\n",
    "print(set1.issubset(set2))\n",
    "\n",
    "## Superset -- does set1 have all elements in set2\n",
    "print(set1.issuperset(set2))"
   ]
  },
  {
   "cell_type": "code",
   "execution_count": 18,
   "metadata": {},
   "outputs": [
    {
     "data": {
      "text/plain": [
       "{1, 2, 3, 4, 5}"
      ]
     },
     "execution_count": 18,
     "metadata": {},
     "output_type": "execute_result"
    }
   ],
   "source": [
    "lst=[1,2,2,3,4,4,5]\n",
    "set(lst)"
   ]
  }
 ],
 "metadata": {
  "kernelspec": {
   "display_name": "Python 3",
   "language": "python",
   "name": "python3"
  },
  "language_info": {
   "codemirror_mode": {
    "name": "ipython",
    "version": 3
   },
   "file_extension": ".py",
   "mimetype": "text/x-python",
   "name": "python",
   "nbconvert_exporter": "python",
   "pygments_lexer": "ipython3",
   "version": "3.10.0"
  }
 },
 "nbformat": 4,
 "nbformat_minor": 2
}
