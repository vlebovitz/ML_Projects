{
 "cells": [
  {
   "cell_type": "markdown",
   "metadata": {},
   "source": [
    "## Introduction to Tuples"
   ]
  },
  {
   "cell_type": "code",
   "execution_count": 5,
   "metadata": {},
   "outputs": [
    {
     "name": "stdout",
     "output_type": "stream",
     "text": [
      "()\n",
      "<class 'tuple'>\n",
      "(1, 'Hello World', 3.14, True)\n"
     ]
    },
    {
     "data": {
      "text/plain": [
       "(3.14, True)"
      ]
     },
     "execution_count": 5,
     "metadata": {},
     "output_type": "execute_result"
    }
   ],
   "source": [
    "## Creating A Tuple\n",
    "empty_tuple = ()\n",
    "print(empty_tuple)\n",
    "print(type(empty_tuple))\n",
    "\n",
    "# Mixed Tuple\n",
    "mixed_tuple=(1,'Hello World',3.14, True)\n",
    "print(mixed_tuple)\n",
    "\n",
    "#Accessing Elements\n",
    "mixed_tuple[2]\n",
    "\n",
    "#Indexing Elements\n",
    "mixed_tuple[2:]"
   ]
  },
  {
   "cell_type": "code",
   "execution_count": 26,
   "metadata": {},
   "outputs": [
    {
     "name": "stdout",
     "output_type": "stream",
     "text": [
      "1\n",
      "2\n",
      "(1, 'Hello', 3.14)\n",
      "1 Hello 3.14\n",
      "[2, 3, 4, 5]\n",
      "[1, 2, 3]\n",
      "2\n",
      "1 2 3 \n",
      "a b c \n",
      "True False \n"
     ]
    }
   ],
   "source": [
    "## Tuple Operations & Methods\n",
    "numbers = (1,2,3,4,5,6)\n",
    "\n",
    "## Count Method - count how many times the element shows\n",
    "print(numbers.count(1))\n",
    "## Index Method - determine what index the value is present at\n",
    "print(numbers.index(3))\n",
    "## Packing and Unpacking Tuples\n",
    "packed_tuple = 1,\"Hello\",3.14\n",
    "print(packed_tuple)\n",
    "#To Unpack\n",
    "a,b,c = packed_tuple\n",
    "print(a,b,c)\n",
    "\n",
    "# To Unpack with *\n",
    "numbers = (1,2,3,4,5,6)\n",
    "first, *middle, last = numbers\n",
    "print(middle)\n",
    "\n",
    "# Nested Tuple\n",
    "lst = [[1,2,3],[4,5,6],[7,8,9],(1,\"Hello\",3.14,\"c\")]\n",
    "print(lst[0][0:3])\n",
    "\n",
    "nested_tuple = ((1,2,3),(\"a\",\"b\",\"c\"),(True, False))\n",
    "print(nested_tuple[0][1])\n",
    "\n",
    "# Iterate through Nested Tuple\n",
    "for sub_tuple in nested_tuple:\n",
    "  for item in sub_tuple:\n",
    "    print(item,end=\" \")\n",
    "  print()\n",
    "\n"
   ]
  },
  {
   "cell_type": "markdown",
   "metadata": {},
   "source": [
    "Immutable and ordered collections are necessary is when to leverage tuples as a data structure."
   ]
  },
  {
   "cell_type": "markdown",
   "metadata": {},
   "source": []
  }
 ],
 "metadata": {
  "kernelspec": {
   "display_name": "Python 3",
   "language": "python",
   "name": "python3"
  },
  "language_info": {
   "codemirror_mode": {
    "name": "ipython",
    "version": 3
   },
   "file_extension": ".py",
   "mimetype": "text/x-python",
   "name": "python",
   "nbconvert_exporter": "python",
   "pygments_lexer": "ipython3",
   "version": "3.10.0"
  }
 },
 "nbformat": 4,
 "nbformat_minor": 2
}
