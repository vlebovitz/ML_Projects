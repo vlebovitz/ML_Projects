{
 "cells": [
  {
   "cell_type": "markdown",
   "metadata": {},
   "source": [
    "Introduction to Lists"
   ]
  },
  {
   "cell_type": "markdown",
   "metadata": {},
   "source": [
    "All Built-In Methods for Lists"
   ]
  },
  {
   "cell_type": "code",
   "execution_count": 16,
   "metadata": {},
   "outputs": [
    {
     "name": "stdout",
     "output_type": "stream",
     "text": [
      "['apple', 'banana', 'cherry', 'kiwi', 'orange']\n",
      "['apple', 'watermelon', 'banana', 'cherry', 'kiwi', 'orange']\n",
      "['apple', 'watermelon', 'cherry', 'kiwi', 'orange']\n",
      "orange\n",
      "['apple', 'watermelon', 'cherry', 'kiwi']\n",
      "2\n",
      "1\n"
     ]
    }
   ],
   "source": [
    "# List Methods\n",
    "fruits = [\"apple\",\"banana\",\"cherry\",\"kiwi\"]\n",
    "\n",
    "#Append Method - append value to end of list\n",
    "fruits.append(\"orange\")\n",
    "print(fruits)\n",
    "\n",
    "#Insert Method - insert value to specified index\n",
    "fruits.insert(1,\"watermelon\")\n",
    "print(fruits)\n",
    "\n",
    "#Remove Method - remove a specific value\n",
    "fruits.remove(\"banana\")\n",
    "print(fruits)\n",
    "\n",
    "#Pop Method - pop the last element in a list\n",
    "value_popped = fruits.pop()\n",
    "print(value_popped)\n",
    "print(fruits)\n",
    "\n",
    "#Index Method - return the index of a value\n",
    "index = fruits.index(\"cherry\")\n",
    "print(index)\n",
    "\n",
    "#Count Method - counts the number of elements in a list\n",
    "print(fruits.count(\"cherry\"))\n",
    "\n",
    "#Sort and Reverse Method - sorts and reverses the data in a list\n",
    "fruits.sort()\n",
    "fruits.reverse()"
   ]
  },
  {
   "cell_type": "markdown",
   "metadata": {},
   "source": [
    "Slicing Lists"
   ]
  },
  {
   "cell_type": "code",
   "execution_count": 19,
   "metadata": {},
   "outputs": [
    {
     "name": "stdout",
     "output_type": "stream",
     "text": [
      "[4, 5, 72]\n",
      "[1, 4, 72]\n",
      "[1, 72, 5, 4, 3, 1]\n"
     ]
    }
   ],
   "source": [
    "numbers = [1,3,4,5,72,1]\n",
    "print(numbers[2:5])\n",
    "print(numbers[::2])\n",
    "print(numbers[::-1])"
   ]
  },
  {
   "cell_type": "markdown",
   "metadata": {},
   "source": [
    "List Comprehension"
   ]
  },
  {
   "cell_type": "code",
   "execution_count": 23,
   "metadata": {},
   "outputs": [
    {
     "name": "stdout",
     "output_type": "stream",
     "text": [
      "[0, 1, 4, 9, 16, 25, 36, 49, 64, 81]\n"
     ]
    }
   ],
   "source": [
    "#What's Needed for Ouput / Iteration Method\n",
    "lst = [x**2 for x in range(10)]\n",
    "print(lst)"
   ]
  },
  {
   "cell_type": "markdown",
   "metadata": {},
   "source": [
    "####  List Comprehension\n",
    "\n",
    "- Basics Syntax [expression for item in iterable]\n",
    "\n",
    "- Conditional Logic [expression for item in iterable if condition]\n",
    "\n",
    "- Nested List Comprehension [expression for item1 in iterable1 for item2 in iterable2]"
   ]
  },
  {
   "cell_type": "code",
   "execution_count": 29,
   "metadata": {},
   "outputs": [
    {
     "name": "stdout",
     "output_type": "stream",
     "text": [
      "[0, 1, 4, 9, 16, 25, 36, 49, 64, 81]\n",
      "[0, 4, 16, 36, 64]\n",
      "[(1, 'a'), (1, 'b'), (1, 'c'), (1, 'd'), (2, 'a'), (2, 'b'), (2, 'c'), (2, 'd'), (3, 'a'), (3, 'b'), (3, 'c'), (3, 'd'), (4, 'a'), (4, 'b'), (4, 'c'), (4, 'd')]\n",
      "[5, 5, 6]\n"
     ]
    }
   ],
   "source": [
    "## Basic List Comprehension\n",
    "square = [num**2 for num in range(10)]\n",
    "print(square)\n",
    "\n",
    "##With Conditional Statement\n",
    "square_new = [num**2 for num in range(10) if num%2==0]\n",
    "print(square_new)\n",
    "\n",
    "## Nested List Compreension\n",
    "lst1 = [1,2,3,4]\n",
    "lst2 = ['a','b','c','d']\n",
    "\n",
    "pair = [(i,j) for i in lst1 for j in lst2]\n",
    "print(pair)\n",
    "\n",
    "## List Comprehension with Function Calls\n",
    "words = [\"hello\",\"world\",\"python\"]\n",
    "lengths = [len(word) for word in words]\n",
    "print(lengths)"
   ]
  },
  {
   "cell_type": "code",
   "execution_count": null,
   "metadata": {},
   "outputs": [],
   "source": [
    "## Real-World Examples of Lists\n"
   ]
  }
 ],
 "metadata": {
  "kernelspec": {
   "display_name": "Python 3",
   "language": "python",
   "name": "python3"
  },
  "language_info": {
   "codemirror_mode": {
    "name": "ipython",
    "version": 3
   },
   "file_extension": ".py",
   "mimetype": "text/x-python",
   "name": "python",
   "nbconvert_exporter": "python",
   "pygments_lexer": "ipython3",
   "version": "3.10.0"
  }
 },
 "nbformat": 4,
 "nbformat_minor": 2
}
